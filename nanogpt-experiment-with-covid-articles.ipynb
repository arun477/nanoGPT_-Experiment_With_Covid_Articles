{
 "cells": [
  {
   "cell_type": "code",
   "execution_count": 1,
   "id": "9f650588",
   "metadata": {
    "_cell_guid": "b1076dfc-b9ad-4769-8c92-a6c4dae69d19",
    "_uuid": "8f2839f25d086af736a60e9eeb907d3b93b6e0e5",
    "execution": {
     "iopub.execute_input": "2023-02-12T00:10:31.788472Z",
     "iopub.status.busy": "2023-02-12T00:10:31.787900Z",
     "iopub.status.idle": "2023-02-12T00:10:31.810108Z",
     "shell.execute_reply": "2023-02-12T00:10:31.809156Z"
    },
    "papermill": {
     "duration": 0.039393,
     "end_time": "2023-02-12T00:10:31.817101",
     "exception": false,
     "start_time": "2023-02-12T00:10:31.777708",
     "status": "completed"
    },
    "tags": []
   },
   "outputs": [],
   "source": [
    "# This Python 3 environment comes with many helpful analytics libraries installed\n",
    "# It is defined by the kaggle/python Docker image: https://github.com/kaggle/docker-python\n",
    "# For example, here's several helpful packages to load\n",
    "\n",
    "import numpy as np # linear algebra\n",
    "import pandas as pd # data processing, CSV file I/O (e.g. pd.read_csv)\n",
    "\n",
    "# Input data files are available in the read-only \"../input/\" directory\n",
    "# For example, running this (by clicking run or pressing Shift+Enter) will list all files under the input directory\n",
    "\n",
    "import os\n",
    "for dirname, _, filenames in os.walk('/kaggle/input'):\n",
    "    for filename in filenames:\n",
    "        print(os.path.join(dirname, filename))\n",
    "\n",
    "# You can write up to 20GB to the current directory (/kaggle/working/) that gets preserved as output when you create a version using \"Save & Run All\" \n",
    "# You can also write temporary files to /kaggle/temp/, but they won't be saved outside of the current session"
   ]
  },
  {
   "cell_type": "code",
   "execution_count": 2,
   "id": "13d2a44c",
   "metadata": {
    "execution": {
     "iopub.execute_input": "2023-02-12T00:10:31.833524Z",
     "iopub.status.busy": "2023-02-12T00:10:31.833135Z",
     "iopub.status.idle": "2023-02-12T00:10:53.970409Z",
     "shell.execute_reply": "2023-02-12T00:10:53.969198Z"
    },
    "papermill": {
     "duration": 22.147865,
     "end_time": "2023-02-12T00:10:53.972933",
     "exception": false,
     "start_time": "2023-02-12T00:10:31.825068",
     "status": "completed"
    },
    "tags": []
   },
   "outputs": [
    {
     "name": "stdout",
     "output_type": "stream",
     "text": [
      "Requirement already satisfied: nltk in /opt/conda/lib/python3.7/site-packages (3.8.1)\r\n",
      "Requirement already satisfied: tqdm in /opt/conda/lib/python3.7/site-packages (from nltk) (4.64.0)\r\n",
      "Requirement already satisfied: click in /opt/conda/lib/python3.7/site-packages (from nltk) (8.1.3)\r\n",
      "Requirement already satisfied: regex>=2021.8.3 in /opt/conda/lib/python3.7/site-packages (from nltk) (2021.11.10)\r\n",
      "Requirement already satisfied: joblib in /opt/conda/lib/python3.7/site-packages (from nltk) (1.0.1)\r\n",
      "Requirement already satisfied: importlib-metadata in /opt/conda/lib/python3.7/site-packages (from click->nltk) (6.0.0)\r\n",
      "Requirement already satisfied: typing-extensions>=3.6.4 in /opt/conda/lib/python3.7/site-packages (from importlib-metadata->click->nltk) (4.1.1)\r\n",
      "Requirement already satisfied: zipp>=0.5 in /opt/conda/lib/python3.7/site-packages (from importlib-metadata->click->nltk) (3.8.0)\r\n",
      "\u001b[33mWARNING: Running pip as the 'root' user can result in broken permissions and conflicting behaviour with the system package manager. It is recommended to use a virtual environment instead: https://pip.pypa.io/warnings/venv\u001b[0m\u001b[33m\r\n",
      "\u001b[0mCollecting pymed\r\n",
      "  Downloading pymed-0.8.9-py3-none-any.whl (9.6 kB)\r\n",
      "Requirement already satisfied: requests>=2.20.0 in /opt/conda/lib/python3.7/site-packages (from pymed) (2.28.1)\r\n",
      "Requirement already satisfied: certifi>=2017.4.17 in /opt/conda/lib/python3.7/site-packages (from requests>=2.20.0->pymed) (2022.12.7)\r\n",
      "Requirement already satisfied: charset-normalizer<3,>=2 in /opt/conda/lib/python3.7/site-packages (from requests>=2.20.0->pymed) (2.1.0)\r\n",
      "Requirement already satisfied: idna<4,>=2.5 in /opt/conda/lib/python3.7/site-packages (from requests>=2.20.0->pymed) (3.3)\r\n",
      "Requirement already satisfied: urllib3<1.27,>=1.21.1 in /opt/conda/lib/python3.7/site-packages (from requests>=2.20.0->pymed) (1.26.14)\r\n",
      "Installing collected packages: pymed\r\n",
      "Successfully installed pymed-0.8.9\r\n",
      "\u001b[33mWARNING: Running pip as the 'root' user can result in broken permissions and conflicting behaviour with the system package manager. It is recommended to use a virtual environment instead: https://pip.pypa.io/warnings/venv\u001b[0m\u001b[33m\r\n",
      "\u001b[0m"
     ]
    }
   ],
   "source": [
    "!pip install nltk\n",
    "!pip install pymed"
   ]
  },
  {
   "cell_type": "code",
   "execution_count": 3,
   "id": "e78013e3",
   "metadata": {
    "execution": {
     "iopub.execute_input": "2023-02-12T00:10:53.984891Z",
     "iopub.status.busy": "2023-02-12T00:10:53.984577Z",
     "iopub.status.idle": "2023-02-12T00:10:59.531571Z",
     "shell.execute_reply": "2023-02-12T00:10:59.530545Z"
    },
    "papermill": {
     "duration": 5.556196,
     "end_time": "2023-02-12T00:10:59.534461",
     "exception": false,
     "start_time": "2023-02-12T00:10:53.978265",
     "status": "completed"
    },
    "tags": []
   },
   "outputs": [
    {
     "name": "stderr",
     "output_type": "stream",
     "text": [
      "[nltk_data] Downloading package stopwords to /usr/share/nltk_data...\n",
      "[nltk_data]   Package stopwords is already up-to-date!\n"
     ]
    }
   ],
   "source": [
    "import torch\n",
    "import torch.nn as nn\n",
    "import torch.nn.functional as F\n",
    "import matplotlib\n",
    "from pymed import PubMed\n",
    "import nltk\n",
    "from nltk.corpus import stopwords\n",
    "nltk.download('stopwords')\n",
    "%matplotlib inline"
   ]
  },
  {
   "cell_type": "code",
   "execution_count": 4,
   "id": "008ef3fd",
   "metadata": {
    "execution": {
     "iopub.execute_input": "2023-02-12T00:10:59.547357Z",
     "iopub.status.busy": "2023-02-12T00:10:59.546262Z",
     "iopub.status.idle": "2023-02-12T00:10:59.559752Z",
     "shell.execute_reply": "2023-02-12T00:10:59.558563Z"
    },
    "papermill": {
     "duration": 0.022674,
     "end_time": "2023-02-12T00:10:59.562497",
     "exception": false,
     "start_time": "2023-02-12T00:10:59.539823",
     "status": "completed"
    },
    "tags": []
   },
   "outputs": [
    {
     "data": {
      "text/plain": [
       "<torch._C.Generator at 0x7f269a4a1f10>"
      ]
     },
     "execution_count": 4,
     "metadata": {},
     "output_type": "execute_result"
    }
   ],
   "source": [
    "torch.manual_seed(1337)"
   ]
  },
  {
   "cell_type": "code",
   "execution_count": 5,
   "id": "e47a5e36",
   "metadata": {
    "execution": {
     "iopub.execute_input": "2023-02-12T00:10:59.576103Z",
     "iopub.status.busy": "2023-02-12T00:10:59.574563Z",
     "iopub.status.idle": "2023-02-12T00:12:15.295900Z",
     "shell.execute_reply": "2023-02-12T00:12:15.294875Z"
    },
    "papermill": {
     "duration": 75.730452,
     "end_time": "2023-02-12T00:12:15.298513",
     "exception": false,
     "start_time": "2023-02-12T00:10:59.568061",
     "status": "completed"
    },
    "tags": []
   },
   "outputs": [],
   "source": [
    "pubmed = PubMed(tool=\"MyTool\", email=\"coolarun477@gmail.com\")\n",
    "results = pubmed.query(\"covid\", max_results=9000)\n",
    "results = [ele.toDict() for ele in results]"
   ]
  },
  {
   "cell_type": "code",
   "execution_count": 6,
   "id": "e78ef7a1",
   "metadata": {
    "execution": {
     "iopub.execute_input": "2023-02-12T00:12:15.312180Z",
     "iopub.status.busy": "2023-02-12T00:12:15.310710Z",
     "iopub.status.idle": "2023-02-12T00:12:15.317073Z",
     "shell.execute_reply": "2023-02-12T00:12:15.315985Z"
    },
    "papermill": {
     "duration": 0.014911,
     "end_time": "2023-02-12T00:12:15.319076",
     "exception": false,
     "start_time": "2023-02-12T00:12:15.304165",
     "status": "completed"
    },
    "tags": []
   },
   "outputs": [
    {
     "name": "stdout",
     "output_type": "stream",
     "text": [
      "total:  9000\n"
     ]
    }
   ],
   "source": [
    "print('total: ', len(results))"
   ]
  },
  {
   "cell_type": "code",
   "execution_count": 7,
   "id": "12a60d73",
   "metadata": {
    "execution": {
     "iopub.execute_input": "2023-02-12T00:12:15.332446Z",
     "iopub.status.busy": "2023-02-12T00:12:15.330569Z",
     "iopub.status.idle": "2023-02-12T00:12:15.410344Z",
     "shell.execute_reply": "2023-02-12T00:12:15.409291Z"
    },
    "papermill": {
     "duration": 0.088599,
     "end_time": "2023-02-12T00:12:15.412892",
     "exception": false,
     "start_time": "2023-02-12T00:12:15.324293",
     "status": "completed"
    },
    "tags": []
   },
   "outputs": [],
   "source": [
    "text = ''\n",
    "for doc in results:\n",
    "  title = doc.get('title') or ''\n",
    "  abstract = doc.get('abstract') or ''\n",
    "  conclusions = doc.get('conclusions') or ''\n",
    "  combined_text = title +  ' ' + abstract + ' ' + conclusions\n",
    "  keywords = list(set(doc.get('keywords', [])))\n",
    "  text += ' ' + combined_text\n",
    "  text += ' '.join(keywords)"
   ]
  },
  {
   "cell_type": "code",
   "execution_count": null,
   "id": "bd8c8876",
   "metadata": {
    "papermill": {
     "duration": 0.005473,
     "end_time": "2023-02-12T00:12:15.424018",
     "exception": false,
     "start_time": "2023-02-12T00:12:15.418545",
     "status": "completed"
    },
    "tags": []
   },
   "outputs": [],
   "source": []
  },
  {
   "cell_type": "code",
   "execution_count": 8,
   "id": "355e50fb",
   "metadata": {
    "execution": {
     "iopub.execute_input": "2023-02-12T00:12:15.436605Z",
     "iopub.status.busy": "2023-02-12T00:12:15.436316Z",
     "iopub.status.idle": "2023-02-12T00:12:15.592785Z",
     "shell.execute_reply": "2023-02-12T00:12:15.591914Z"
    },
    "papermill": {
     "duration": 0.165179,
     "end_time": "2023-02-12T00:12:15.595064",
     "exception": false,
     "start_time": "2023-02-12T00:12:15.429885",
     "status": "completed"
    },
    "tags": []
   },
   "outputs": [],
   "source": [
    "chars = sorted(list(set(text)))\n",
    "stoi = {s:i for i, s in enumerate(chars)}\n",
    "itos = {i:s for s, i in stoi.items()}\n",
    "encode = lambda s: [stoi[i] for i in s]\n",
    "decode = lambda e: \"\".join([itos[i] for i in e])\n",
    "vocab_size = len(chars)"
   ]
  },
  {
   "cell_type": "code",
   "execution_count": 9,
   "id": "e4224912",
   "metadata": {
    "execution": {
     "iopub.execute_input": "2023-02-12T00:12:15.609165Z",
     "iopub.status.busy": "2023-02-12T00:12:15.607605Z",
     "iopub.status.idle": "2023-02-12T00:12:17.013458Z",
     "shell.execute_reply": "2023-02-12T00:12:17.012411Z"
    },
    "papermill": {
     "duration": 1.415787,
     "end_time": "2023-02-12T00:12:17.016182",
     "exception": false,
     "start_time": "2023-02-12T00:12:15.600395",
     "status": "completed"
    },
    "tags": []
   },
   "outputs": [],
   "source": [
    "data = torch.tensor(encode(text), dtype=torch.long)\n",
    "n = int(len(data)* 0.9)\n",
    "train_data = data[:n] # 90% train data\n",
    "val_data = data[n:]"
   ]
  },
  {
   "cell_type": "code",
   "execution_count": 10,
   "id": "b3abdb10",
   "metadata": {
    "execution": {
     "iopub.execute_input": "2023-02-12T00:12:17.031443Z",
     "iopub.status.busy": "2023-02-12T00:12:17.029453Z",
     "iopub.status.idle": "2023-02-12T00:12:17.148863Z",
     "shell.execute_reply": "2023-02-12T00:12:17.147738Z"
    },
    "papermill": {
     "duration": 0.129096,
     "end_time": "2023-02-12T00:12:17.151211",
     "exception": false,
     "start_time": "2023-02-12T00:12:17.022115",
     "status": "completed"
    },
    "tags": []
   },
   "outputs": [],
   "source": [
    "dropout = 0.2\n",
    "block_size = 356 # max context length\n",
    "embd_dim = 400\n",
    "n_layer = 10\n",
    "num_heads = 10\n",
    "device = 'cuda' if torch.cuda.is_available() else 'cpu'\n",
    "learning_rate = 3e-4\n",
    "batch_size = 64\n",
    "eval_iters = 200\n",
    "max_iters = 17000\n",
    "eval_interval = 500"
   ]
  },
  {
   "cell_type": "code",
   "execution_count": 11,
   "id": "8740530a",
   "metadata": {
    "execution": {
     "iopub.execute_input": "2023-02-12T00:12:17.164328Z",
     "iopub.status.busy": "2023-02-12T00:12:17.163943Z",
     "iopub.status.idle": "2023-02-12T00:12:17.174457Z",
     "shell.execute_reply": "2023-02-12T00:12:17.173522Z"
    },
    "papermill": {
     "duration": 0.019492,
     "end_time": "2023-02-12T00:12:17.176719",
     "exception": false,
     "start_time": "2023-02-12T00:12:17.157227",
     "status": "completed"
    },
    "tags": []
   },
   "outputs": [],
   "source": [
    "# sigle attention head\n",
    "class Head(nn.Module):\n",
    "  def __init__(self, embd_dim, head_size):\n",
    "    super().__init__()\n",
    "    self.query = nn.Linear(embd_dim, head_size, bias=False)\n",
    "    self.key = nn.Linear(embd_dim, head_size, bias=False)\n",
    "    self.val = nn.Linear(embd_dim, head_size, bias=False)\n",
    "    self.dropout = nn.Dropout(dropout)\n",
    "    self.register_buffer('tril', torch.tril(torch.ones(block_size, block_size)))\n",
    "  \n",
    "  def forward(self, x):\n",
    "    B, T, C = x.shape\n",
    "    q = self.query(x) # (B, T, head_size)\n",
    "    k = self.key(x) # (B, T, head_size)\n",
    "    v = self.val(x) # (B, T, head_size)\n",
    "    wei = q @ k.transpose(-2, -1) * C**-0.5 # (B, T, T)\n",
    "    wei = wei.masked_fill(self.tril[:T, :T]==0, float('-inf')) # (B, T, T)\n",
    "    wei = F.softmax(wei, dim=-1) # (B, T, T)\n",
    "    wei = self.dropout(wei) # (B, T, T)\n",
    "    out = wei @ v # (B, T, head_size)\n",
    "    return out"
   ]
  },
  {
   "cell_type": "code",
   "execution_count": 12,
   "id": "dd80e744",
   "metadata": {
    "execution": {
     "iopub.execute_input": "2023-02-12T00:12:17.189668Z",
     "iopub.status.busy": "2023-02-12T00:12:17.189335Z",
     "iopub.status.idle": "2023-02-12T00:12:17.196426Z",
     "shell.execute_reply": "2023-02-12T00:12:17.195411Z"
    },
    "papermill": {
     "duration": 0.015959,
     "end_time": "2023-02-12T00:12:17.198576",
     "exception": false,
     "start_time": "2023-02-12T00:12:17.182617",
     "status": "completed"
    },
    "tags": []
   },
   "outputs": [],
   "source": [
    "# mulit head attention (just a compose of single head attention)\n",
    "class MultiHeadAttention(nn.Module):\n",
    "  def __init__(self, embd_dim, num_heads, head_size):\n",
    "    super().__init__()\n",
    "    self.heads = nn.ModuleList([Head(embd_dim, head_size) for _ in range(num_heads)])\n",
    "    self.dropout = nn.Dropout(dropout)\n",
    "    self.proj = nn.Linear(embd_dim, embd_dim)\n",
    "  \n",
    "  def forward(self, x):\n",
    "    out = [h(x) for h in self.heads]\n",
    "    out = torch.cat(out, dim=-1)\n",
    "    out = self.proj(out)\n",
    "    out = self.dropout(out)\n",
    "    return out"
   ]
  },
  {
   "cell_type": "code",
   "execution_count": 13,
   "id": "9a7eb626",
   "metadata": {
    "execution": {
     "iopub.execute_input": "2023-02-12T00:12:17.212264Z",
     "iopub.status.busy": "2023-02-12T00:12:17.211370Z",
     "iopub.status.idle": "2023-02-12T00:12:17.217789Z",
     "shell.execute_reply": "2023-02-12T00:12:17.216656Z"
    },
    "papermill": {
     "duration": 0.015508,
     "end_time": "2023-02-12T00:12:17.219948",
     "exception": false,
     "start_time": "2023-02-12T00:12:17.204440",
     "status": "completed"
    },
    "tags": []
   },
   "outputs": [],
   "source": [
    "class FeedForward(nn.Module):\n",
    "  def __init__(self, embd_dim):\n",
    "    super().__init__()\n",
    "    self.net = nn.Sequential(\n",
    "        nn.Linear(embd_dim, 4*embd_dim),\n",
    "        nn.ReLU(),\n",
    "        nn.Linear(4*embd_dim, embd_dim),\n",
    "        nn.Dropout(dropout)\n",
    "    )\n",
    "\n",
    "  def forward(self, x):\n",
    "    return self.net(x)"
   ]
  },
  {
   "cell_type": "code",
   "execution_count": 14,
   "id": "11be8b31",
   "metadata": {
    "execution": {
     "iopub.execute_input": "2023-02-12T00:12:17.234091Z",
     "iopub.status.busy": "2023-02-12T00:12:17.233113Z",
     "iopub.status.idle": "2023-02-12T00:12:17.240118Z",
     "shell.execute_reply": "2023-02-12T00:12:17.238949Z"
    },
    "papermill": {
     "duration": 0.016478,
     "end_time": "2023-02-12T00:12:17.242434",
     "exception": false,
     "start_time": "2023-02-12T00:12:17.225956",
     "status": "completed"
    },
    "tags": []
   },
   "outputs": [],
   "source": [
    "class Block(nn.Module):\n",
    "  def __init__(self, embd_dim, num_heads):\n",
    "    super().__init__()\n",
    "    head_size = embd_dim // num_heads\n",
    "    self.sa = MultiHeadAttention(embd_dim, num_heads, head_size)\n",
    "    self.fw = FeedForward(embd_dim)\n",
    "    self.ln1 = nn.LayerNorm(embd_dim)\n",
    "    self.ln2 = nn.LayerNorm(embd_dim)\n",
    "\n",
    "  def forward(self, x):\n",
    "    x = x + self.sa(self.ln1(x))\n",
    "    x = x + self.fw(self.ln2(x))\n",
    "    return x"
   ]
  },
  {
   "cell_type": "code",
   "execution_count": 15,
   "id": "b0388b14",
   "metadata": {
    "execution": {
     "iopub.execute_input": "2023-02-12T00:12:17.256242Z",
     "iopub.status.busy": "2023-02-12T00:12:17.255195Z",
     "iopub.status.idle": "2023-02-12T00:12:17.264923Z",
     "shell.execute_reply": "2023-02-12T00:12:17.264032Z"
    },
    "papermill": {
     "duration": 0.018813,
     "end_time": "2023-02-12T00:12:17.267176",
     "exception": false,
     "start_time": "2023-02-12T00:12:17.248363",
     "status": "completed"
    },
    "tags": []
   },
   "outputs": [],
   "source": [
    "class BigramModel(nn.Module):\n",
    "  def __init__(self,):\n",
    "    super().__init__()\n",
    "    self.token_embedding_table = nn.Embedding(vocab_size, embd_dim)\n",
    "    self.position_embedding_table = nn.Embedding(block_size, embd_dim)\n",
    "    self.blocks = nn.Sequential(*[Block(embd_dim, num_heads) for _ in range(n_layer)])\n",
    "    self.lf = nn.LayerNorm(embd_dim)\n",
    "    self.lm_head = nn.Linear(embd_dim, vocab_size)\n",
    "\n",
    "  def forward(self, idx, target=None):\n",
    "    B, T = idx.shape\n",
    "\n",
    "    token_emb = self.token_embedding_table(idx)\n",
    "    pos_emb = self.position_embedding_table(torch.arange(T, device=device))\n",
    "    x = token_emb + pos_emb\n",
    "    x = self.blocks(x)\n",
    "    x = self.lf(x)\n",
    "    logits = self.lm_head(x)\n",
    "\n",
    "    if target is None:\n",
    "      loss = None\n",
    "    else:\n",
    "      B, T, C = logits.shape\n",
    "      logits = logits.view(B*T, C)\n",
    "      target = target.view(B*T)\n",
    "      loss = F.cross_entropy(logits, target)\n",
    "    \n",
    "    return loss, logits"
   ]
  },
  {
   "cell_type": "code",
   "execution_count": 16,
   "id": "7f9adfac",
   "metadata": {
    "execution": {
     "iopub.execute_input": "2023-02-12T00:12:17.282092Z",
     "iopub.status.busy": "2023-02-12T00:12:17.280225Z",
     "iopub.status.idle": "2023-02-12T00:12:21.791523Z",
     "shell.execute_reply": "2023-02-12T00:12:21.790346Z"
    },
    "papermill": {
     "duration": 4.520955,
     "end_time": "2023-02-12T00:12:21.794232",
     "exception": false,
     "start_time": "2023-02-12T00:12:17.273277",
     "status": "completed"
    },
    "tags": []
   },
   "outputs": [],
   "source": [
    "model = BigramModel()\n",
    "m = model.to(device)"
   ]
  },
  {
   "cell_type": "code",
   "execution_count": 17,
   "id": "2f14c15e",
   "metadata": {
    "execution": {
     "iopub.execute_input": "2023-02-12T00:12:21.808914Z",
     "iopub.status.busy": "2023-02-12T00:12:21.807056Z",
     "iopub.status.idle": "2023-02-12T00:12:21.816236Z",
     "shell.execute_reply": "2023-02-12T00:12:21.815134Z"
    },
    "papermill": {
     "duration": 0.018967,
     "end_time": "2023-02-12T00:12:21.819257",
     "exception": false,
     "start_time": "2023-02-12T00:12:21.800290",
     "status": "completed"
    },
    "tags": []
   },
   "outputs": [
    {
     "name": "stdout",
     "output_type": "stream",
     "text": [
      "20.522222 M parameters\n"
     ]
    }
   ],
   "source": [
    "n_params = sum(ele.numel() for ele in m.parameters())/1e6\n",
    "print(n_params, 'M parameters')"
   ]
  },
  {
   "cell_type": "code",
   "execution_count": 18,
   "id": "5a7f034c",
   "metadata": {
    "execution": {
     "iopub.execute_input": "2023-02-12T00:12:21.834239Z",
     "iopub.status.busy": "2023-02-12T00:12:21.833321Z",
     "iopub.status.idle": "2023-02-12T00:12:21.840710Z",
     "shell.execute_reply": "2023-02-12T00:12:21.839858Z"
    },
    "papermill": {
     "duration": 0.016628,
     "end_time": "2023-02-12T00:12:21.842822",
     "exception": false,
     "start_time": "2023-02-12T00:12:21.826194",
     "status": "completed"
    },
    "tags": []
   },
   "outputs": [],
   "source": [
    "optimizer = torch.optim.AdamW(model.parameters(), lr=learning_rate)"
   ]
  },
  {
   "cell_type": "code",
   "execution_count": 19,
   "id": "cc25755f",
   "metadata": {
    "execution": {
     "iopub.execute_input": "2023-02-12T00:12:21.856512Z",
     "iopub.status.busy": "2023-02-12T00:12:21.855697Z",
     "iopub.status.idle": "2023-02-12T00:12:21.862310Z",
     "shell.execute_reply": "2023-02-12T00:12:21.861417Z"
    },
    "papermill": {
     "duration": 0.015388,
     "end_time": "2023-02-12T00:12:21.864378",
     "exception": false,
     "start_time": "2023-02-12T00:12:21.848990",
     "status": "completed"
    },
    "tags": []
   },
   "outputs": [],
   "source": [
    "def get_batch(split):\n",
    "  data = train_data if split=='train' else val_data\n",
    "  ix = torch.randint(len(data)-block_size, (batch_size,))\n",
    "  x = torch.stack([data[i:i+block_size] for i in ix])\n",
    "  y = torch.stack([data[i+1:i+1+block_size] for i in ix])\n",
    "  x, y = x.to(device), y.to(device)\n",
    "  return x, y"
   ]
  },
  {
   "cell_type": "code",
   "execution_count": 20,
   "id": "d7cdd419",
   "metadata": {
    "execution": {
     "iopub.execute_input": "2023-02-12T00:12:21.877395Z",
     "iopub.status.busy": "2023-02-12T00:12:21.876838Z",
     "iopub.status.idle": "2023-02-12T00:12:21.883246Z",
     "shell.execute_reply": "2023-02-12T00:12:21.882418Z"
    },
    "papermill": {
     "duration": 0.014793,
     "end_time": "2023-02-12T00:12:21.885041",
     "exception": false,
     "start_time": "2023-02-12T00:12:21.870248",
     "status": "completed"
    },
    "tags": []
   },
   "outputs": [],
   "source": [
    "@torch.no_grad()\n",
    "def estimate_loss():\n",
    "  out = {}\n",
    "  model.eval()\n",
    "  for split in ['train', 'val']:\n",
    "    losses = torch.zeros(eval_iters)\n",
    "    for k in range(eval_iters):\n",
    "      X, Y = get_batch(split)\n",
    "      loss, logits = model(X, Y)\n",
    "      losses[k] = loss.item()\n",
    "    out[split] = losses.mean()\n",
    "  model.train()\n",
    "  return out"
   ]
  },
  {
   "cell_type": "code",
   "execution_count": 21,
   "id": "6a86f411",
   "metadata": {
    "execution": {
     "iopub.execute_input": "2023-02-12T00:12:21.898897Z",
     "iopub.status.busy": "2023-02-12T00:12:21.898145Z",
     "iopub.status.idle": "2023-02-12T10:12:48.409704Z",
     "shell.execute_reply": "2023-02-12T10:12:48.408699Z"
    },
    "papermill": {
     "duration": 36026.520976,
     "end_time": "2023-02-12T10:12:48.412369",
     "exception": false,
     "start_time": "2023-02-12T00:12:21.891393",
     "status": "completed"
    },
    "tags": []
   },
   "outputs": [
    {
     "name": "stdout",
     "output_type": "stream",
     "text": [
      "step 0: train loss 7.3712, val loss 7.3718\n",
      "step 500: train loss 2.2353, val loss 2.2373\n",
      "step 1000: train loss 1.4904, val loss 1.5058\n",
      "step 1500: train loss 1.2754, val loss 1.2917\n",
      "step 2000: train loss 1.1791, val loss 1.2021\n",
      "step 2500: train loss 1.1294, val loss 1.1607\n",
      "step 3000: train loss 1.0777, val loss 1.1048\n",
      "step 3500: train loss 1.0296, val loss 1.0629\n",
      "step 4000: train loss 1.0036, val loss 1.0425\n",
      "step 4500: train loss 0.9794, val loss 1.0169\n",
      "step 5000: train loss 0.9591, val loss 1.0000\n",
      "step 5500: train loss 0.9386, val loss 0.9880\n",
      "step 6000: train loss 0.9274, val loss 0.9741\n",
      "step 6500: train loss 0.9132, val loss 0.9615\n",
      "step 7000: train loss 0.8997, val loss 0.9524\n",
      "step 7500: train loss 0.8867, val loss 0.9424\n",
      "step 8000: train loss 0.8780, val loss 0.9414\n",
      "step 8500: train loss 0.8679, val loss 0.9306\n",
      "step 9000: train loss 0.8605, val loss 0.9324\n",
      "step 9500: train loss 0.8485, val loss 0.9193\n",
      "step 10000: train loss 0.8416, val loss 0.9168\n",
      "step 10500: train loss 0.8366, val loss 0.9098\n",
      "step 11000: train loss 0.8300, val loss 0.9130\n",
      "step 11500: train loss 0.8196, val loss 0.9002\n",
      "step 12000: train loss 0.8148, val loss 0.9013\n",
      "step 12500: train loss 0.8124, val loss 0.8987\n",
      "step 13000: train loss 0.8041, val loss 0.8956\n",
      "step 13500: train loss 0.7963, val loss 0.8955\n",
      "step 14000: train loss 0.7912, val loss 0.8905\n",
      "step 14500: train loss 0.7872, val loss 0.8880\n",
      "step 15000: train loss 0.7835, val loss 0.8825\n",
      "step 15500: train loss 0.7771, val loss 0.8875\n",
      "step 16000: train loss 0.7683, val loss 0.8835\n",
      "step 16500: train loss 0.7688, val loss 0.8782\n"
     ]
    }
   ],
   "source": [
    "for iter in range(max_iters):\n",
    "  if iter % eval_interval == 0:\n",
    "    losses = estimate_loss()\n",
    "    print(f\"step {iter}: train loss {losses['train']:.4f}, val loss {losses['val']:.4f}\")\n",
    "\n",
    "  xb, yb = get_batch('train')\n",
    "  loss, logits = model(xb, yb)\n",
    "  optimizer.zero_grad(set_to_none=True)\n",
    "  loss.backward()\n",
    "  optimizer.step()"
   ]
  },
  {
   "cell_type": "code",
   "execution_count": 22,
   "id": "f9461f63",
   "metadata": {
    "execution": {
     "iopub.execute_input": "2023-02-12T10:12:48.429943Z",
     "iopub.status.busy": "2023-02-12T10:12:48.429289Z",
     "iopub.status.idle": "2023-02-12T10:12:48.435628Z",
     "shell.execute_reply": "2023-02-12T10:12:48.434738Z"
    },
    "papermill": {
     "duration": 0.017072,
     "end_time": "2023-02-12T10:12:48.437520",
     "exception": false,
     "start_time": "2023-02-12T10:12:48.420448",
     "status": "completed"
    },
    "tags": []
   },
   "outputs": [],
   "source": [
    "def generate(idx, max_new_tokens):\n",
    "  for _ in range(max_new_tokens):\n",
    "    idx_cond = idx[:, -block_size:] # crop idx to the block_size tokens\n",
    "    loss, logits = model(idx_cond)\n",
    "    logits = logits[:, -1, :]\n",
    "    probs = F.softmax(logits, dim=-1)\n",
    "    idx_next = torch.multinomial(probs, num_samples=1)\n",
    "    idx = torch.cat((idx, idx_next), dim=1)\n",
    "  return idx"
   ]
  },
  {
   "cell_type": "code",
   "execution_count": 23,
   "id": "77e6949c",
   "metadata": {
    "execution": {
     "iopub.execute_input": "2023-02-12T10:12:48.454506Z",
     "iopub.status.busy": "2023-02-12T10:12:48.453690Z",
     "iopub.status.idle": "2023-02-12T10:13:39.385159Z",
     "shell.execute_reply": "2023-02-12T10:13:39.384064Z"
    },
    "papermill": {
     "duration": 50.948556,
     "end_time": "2023-02-12T10:13:39.393714",
     "exception": false,
     "start_time": "2023-02-12T10:12:48.445158",
     "status": "completed"
    },
    "tags": []
   },
   "outputs": [
    {
     "name": "stdout",
     "output_type": "stream",
     "text": [
      "\n",
      "Link-of-license COVID-19 pandemic Increased dental support well-being compliants COVID-19 Nigoblods, Lengthanolizations Have Not: The Viral RNA-1global Treatment option. Consensual racism and ethical enhances a patient with insect of existin drugs (vbra) at discourse, even after an elementopy networking in the care service. The Virus, a failure Iral SARS, one of determinant hierarchy, MDT is less often explained. Consent of exhibits information can following older adults during October 2020, recently studies, which focused on patient with two drugs of extra service (e.g., unit) and at time \"case\" monitoring of 'can used nasopharyngeal infusion in pregnant women, eventually suggested, allergical conditions and regularity. Medicines used individuals around two of them brokeen equipment inclusion criteria, outcomes and the factoristical points of the anti-SST code of 28 monitoring. Corresponding to a useful survey (rate of pregnancy of tawal signs, women under commercial judocular positio\n"
     ]
    }
   ],
   "source": [
    "context = torch.zeros((1, 1), dtype=torch.long, device=device)\n",
    "print(decode(generate(context, max_new_tokens=1000)[0].tolist()))"
   ]
  },
  {
   "cell_type": "code",
   "execution_count": 24,
   "id": "880847f5",
   "metadata": {
    "execution": {
     "iopub.execute_input": "2023-02-12T10:13:39.418279Z",
     "iopub.status.busy": "2023-02-12T10:13:39.417842Z",
     "iopub.status.idle": "2023-02-12T10:22:22.223866Z",
     "shell.execute_reply": "2023-02-12T10:22:22.222915Z"
    },
    "papermill": {
     "duration": 522.828534,
     "end_time": "2023-02-12T10:22:22.233802",
     "exception": false,
     "start_time": "2023-02-12T10:13:39.405268",
     "status": "completed"
    },
    "tags": []
   },
   "outputs": [
    {
     "data": {
      "text/plain": [
       "10001"
      ]
     },
     "execution_count": 24,
     "metadata": {},
     "output_type": "execute_result"
    }
   ],
   "source": [
    "open('generated_output.txt', 'w').write(decode(generate(context, max_new_tokens=10000)[0].tolist()))"
   ]
  },
  {
   "cell_type": "code",
   "execution_count": null,
   "id": "669c72b3",
   "metadata": {
    "papermill": {
     "duration": 0.007574,
     "end_time": "2023-02-12T10:22:22.249491",
     "exception": false,
     "start_time": "2023-02-12T10:22:22.241917",
     "status": "completed"
    },
    "tags": []
   },
   "outputs": [],
   "source": []
  }
 ],
 "metadata": {
  "kernelspec": {
   "display_name": "Python 3",
   "language": "python",
   "name": "python3"
  },
  "language_info": {
   "codemirror_mode": {
    "name": "ipython",
    "version": 3
   },
   "file_extension": ".py",
   "mimetype": "text/x-python",
   "name": "python",
   "nbconvert_exporter": "python",
   "pygments_lexer": "ipython3",
   "version": "3.7.12"
  },
  "papermill": {
   "default_parameters": {},
   "duration": 36724.56081,
   "end_time": "2023-02-12T10:22:25.773060",
   "environment_variables": {},
   "exception": null,
   "input_path": "__notebook__.ipynb",
   "output_path": "__notebook__.ipynb",
   "parameters": {},
   "start_time": "2023-02-12T00:10:21.212250",
   "version": "2.3.4"
  }
 },
 "nbformat": 4,
 "nbformat_minor": 5
}
